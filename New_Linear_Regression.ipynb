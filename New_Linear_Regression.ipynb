{
 "cells": [
  {
   "cell_type": "code",
   "execution_count": 2,
   "metadata": {},
   "outputs": [],
   "source": [
    "import pandas as pd\n",
    "from sklearn.linear_model import LinearRegression"
   ]
  },
  {
   "cell_type": "code",
   "execution_count": 26,
   "metadata": {},
   "outputs": [],
   "source": [
    "df= pd.read_csv(\"Data Cleanup & Postgres/merge.csv\")\n",
    "df.time= pd.to_datetime(df.time)\n",
    "df[\"AM\"] = df.time.dt.hour<12\n",
    "def continent(country_code):\n",
    "    if country_code in ['AU', 'NZ', 'NC', 'FM']: return \"Oceania\"\n",
    "    elif country_code in ['PH', 'TW', 'IN', 'IR', 'JP']: return \"Asia\"\n",
    "    elif country_code in ['ZA', 'RE', 'UG']: return \"Africa\"\n",
    "    elif country_code in ['MX', 'US', 'CA']: return \"North_America\"\n",
    "    elif country_code in ['CL', 'AR', 'PE', 'BR', 'EC', 'VE']: return \"South_America\"\n",
    "    elif country_code in ['GR', 'AL', 'IT', 'PT', 'RO', 'AT', 'SJ']: return \"Europe\"\n",
    "df['continent'] = df['country'].apply(continent)\n",
    "\n",
    "X= pd.get_dummies(df[['continent', 'AM', 'depth']])\n",
    "y= df['mag']"
   ]
  },
  {
   "cell_type": "code",
   "execution_count": 28,
   "metadata": {},
   "outputs": [
    {
     "data": {
      "text/plain": [
       "array([-0.02297509,  0.00835914,  0.62167817,  0.34338526,  0.73483441,\n",
       "       -2.49857981,  0.68814972,  0.11053226])"
      ]
     },
     "execution_count": 28,
     "metadata": {},
     "output_type": "execute_result"
    }
   ],
   "source": [
    "reg= LinearRegression()\n",
    "reg.fit(X, y)\n",
    "reg.coef_"
   ]
  },
  {
   "cell_type": "code",
   "execution_count": 31,
   "metadata": {},
   "outputs": [
    {
     "data": {
      "text/plain": [
       "<zip at 0x279d2595ec0>"
      ]
     },
     "execution_count": 31,
     "metadata": {},
     "output_type": "execute_result"
    }
   ],
   "source": [
    "reg.score(X, y)\n",
    "zip(X.columns, reg.coef_)"
   ]
  },
  {
   "cell_type": "code",
   "execution_count": 32,
   "metadata": {},
   "outputs": [
    {
     "data": {
      "text/plain": [
       "{'AM': -0.022975087820035555,\n",
       " 'depth': 0.008359141424830465,\n",
       " 'continent_Africa': 0.6216781740117339,\n",
       " 'continent_Asia': 0.34338525657184626,\n",
       " 'continent_Europe': 0.7348344079010304,\n",
       " 'continent_North_America': -2.4985798149364875,\n",
       " 'continent_Oceania': 0.6881497192853244,\n",
       " 'continent_South_America': 0.11053225716655068}"
      ]
     },
     "execution_count": 32,
     "metadata": {},
     "output_type": "execute_result"
    }
   ],
   "source": [
    "results = {}\n",
    "for col, coef in zip(X.columns, reg.coef_):\n",
    "    results[col]=coef\n",
    "results"
   ]
  }
 ],
 "metadata": {
  "kernelspec": {
   "display_name": "Python 3",
   "language": "python",
   "name": "python3"
  },
  "language_info": {
   "codemirror_mode": {
    "name": "ipython",
    "version": 3
   },
   "file_extension": ".py",
   "mimetype": "text/x-python",
   "name": "python",
   "nbconvert_exporter": "python",
   "pygments_lexer": "ipython3",
   "version": "3.8.5"
  }
 },
 "nbformat": 4,
 "nbformat_minor": 4
}
